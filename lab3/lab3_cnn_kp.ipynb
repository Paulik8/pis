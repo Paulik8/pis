{
  "nbformat": 4,
  "nbformat_minor": 0,
  "metadata": {
    "colab": {
      "name": "lab3_cnn_kp.ipynb",
      "provenance": [],
      "collapsed_sections": []
    },
    "kernelspec": {
      "name": "python3",
      "display_name": "Python 3"
    }
  },
  "cells": [
    {
      "cell_type": "markdown",
      "metadata": {
        "id": "DPk2R0FJoVSl",
        "colab_type": "text"
      },
      "source": [
        "Хотин Павел ИУ5-24М"
      ]
    },
    {
      "cell_type": "code",
      "metadata": {
        "id": "x2gX3tAgPp6V",
        "colab_type": "code",
        "colab": {
          "base_uri": "https://localhost:8080/",
          "height": 34
        },
        "outputId": "60aa4b35-c6fe-476c-9476-67911ec5311a"
      },
      "source": [
        "import keras\n",
        "from keras.datasets import cifar10\n",
        "from keras.preprocessing.image import ImageDataGenerator\n",
        "from keras.models import Sequential\n",
        "from keras.layers import Dense, Dropout, Activation, Flatten\n",
        "from keras.layers import Conv2D, MaxPooling2D\n",
        "import os\n",
        "from keras.constraints import maxnorm\n",
        "from keras.optimizers import SGD"
      ],
      "execution_count": 2,
      "outputs": [
        {
          "output_type": "stream",
          "text": [
            "Using TensorFlow backend.\n"
          ],
          "name": "stderr"
        }
      ]
    },
    {
      "cell_type": "code",
      "metadata": {
        "id": "6MH-MA_hYwMi",
        "colab_type": "code",
        "colab": {}
      },
      "source": [
        "!mkdir ./sample_data/models"
      ],
      "execution_count": 0,
      "outputs": []
    },
    {
      "cell_type": "code",
      "metadata": {
        "id": "kLgwH_jBXH_H",
        "colab_type": "code",
        "outputId": "e6f2897c-5b3b-4a51-bd06-00087fe5ebf5",
        "colab": {
          "base_uri": "https://localhost:8080/",
          "height": 34
        }
      },
      "source": [
        "os.getcwd()"
      ],
      "execution_count": 0,
      "outputs": [
        {
          "output_type": "execute_result",
          "data": {
            "text/plain": [
              "'/content'"
            ]
          },
          "metadata": {
            "tags": []
          },
          "execution_count": 9
        }
      ]
    },
    {
      "cell_type": "code",
      "metadata": {
        "id": "Ks3uqaWmQt4L",
        "colab_type": "code",
        "outputId": "4e5b41e5-adce-49be-a8c7-2a856cb202ef",
        "colab": {
          "base_uri": "https://localhost:8080/",
          "height": 68
        }
      },
      "source": [
        "(x_train, y_train), (x_test, y_test) = cifar10.load_data()\n",
        "print('x_train shape:', x_train.shape)\n",
        "print(x_train.shape[0], 'train samples')\n",
        "print(x_test.shape[0], 'test samples')"
      ],
      "execution_count": 79,
      "outputs": [
        {
          "output_type": "stream",
          "text": [
            "x_train shape: (50000, 32, 32, 3)\n",
            "50000 train samples\n",
            "10000 test samples\n"
          ],
          "name": "stdout"
        }
      ]
    },
    {
      "cell_type": "code",
      "metadata": {
        "id": "NPLxnO0KnmgE",
        "colab_type": "code",
        "colab": {}
      },
      "source": [
        "x_train = x_train.astype('float32')\n",
        "x_test = x_test.astype('float32')\n",
        "x_train = x_train / 255.0\n",
        "x_test = x_test / 255.0"
      ],
      "execution_count": 0,
      "outputs": []
    },
    {
      "cell_type": "code",
      "metadata": {
        "id": "bT7sio2enF45",
        "colab_type": "code",
        "colab": {}
      },
      "source": [
        "y_train = keras.utils.to_categorical(y_train, num_classes)\n",
        "y_test = keras.utils.to_categorical(y_test, num_classes)"
      ],
      "execution_count": 0,
      "outputs": []
    },
    {
      "cell_type": "code",
      "metadata": {
        "id": "ac_1oHwDm0MU",
        "colab_type": "code",
        "colab": {}
      },
      "source": [
        "batch_size = 32\n",
        "num_classes = y_test.shape[1]\n",
        "epochs = 25\n",
        "data_augmentation = True\n",
        "num_predictions = 20\n",
        "save_dir = os.path.join(os.getcwd(), '/sample_data/models')\n",
        "model_name = 'keras_cifar10_trained_model.h5'"
      ],
      "execution_count": 0,
      "outputs": []
    },
    {
      "cell_type": "code",
      "metadata": {
        "id": "wQk_nn3NRc_t",
        "colab_type": "code",
        "colab": {}
      },
      "source": [
        "model = Sequential()\n",
        "model.add(Conv2D(32, (3, 3), input_shape=(32, 32, 3), padding='same', activation='relu', kernel_constraint=maxnorm(3)))\n",
        "model.add(Dropout(0.2))\n",
        "model.add(Conv2D(64, (3, 3), activation='relu', padding='same', kernel_constraint=maxnorm(3)))\n",
        "model.add(MaxPooling2D(pool_size=(2, 2)))\n",
        "model.add(Conv2D(128, (3, 3), input_shape=(32, 32, 3), padding='same', activation='relu', kernel_constraint=maxnorm(3)))\n",
        "model.add(MaxPooling2D(pool_size=(2, 2)))\n",
        "model.add(Dropout(0.2))\n",
        "model.add(Flatten())\n",
        "model.add(Dense(512, activation='relu', kernel_constraint=maxnorm(3)))\n",
        "model.add(Dropout(0.5))\n",
        "model.add(Dense(num_classes, activation='softmax'))"
      ],
      "execution_count": 0,
      "outputs": []
    },
    {
      "cell_type": "code",
      "metadata": {
        "id": "_KkpbGpHisgX",
        "colab_type": "code",
        "colab": {
          "base_uri": "https://localhost:8080/",
          "height": 544
        },
        "outputId": "e823bac6-bd9c-404e-fc95-6591a2a7586f"
      },
      "source": [
        "lrate = 0.01\n",
        "decay = lrate/epochs\n",
        "sgd = SGD(lr=lrate, momentum=0.9, decay=decay, nesterov=False)\n",
        "model.compile(loss='categorical_crossentropy', optimizer=sgd, metrics=['accuracy'])\n",
        "print(model.summary())"
      ],
      "execution_count": 85,
      "outputs": [
        {
          "output_type": "stream",
          "text": [
            "Model: \"sequential_18\"\n",
            "_________________________________________________________________\n",
            "Layer (type)                 Output Shape              Param #   \n",
            "=================================================================\n",
            "conv2d_37 (Conv2D)           (None, 32, 32, 32)        896       \n",
            "_________________________________________________________________\n",
            "dropout_31 (Dropout)         (None, 32, 32, 32)        0         \n",
            "_________________________________________________________________\n",
            "conv2d_38 (Conv2D)           (None, 32, 32, 64)        18496     \n",
            "_________________________________________________________________\n",
            "max_pooling2d_33 (MaxPooling (None, 16, 16, 64)        0         \n",
            "_________________________________________________________________\n",
            "conv2d_39 (Conv2D)           (None, 16, 16, 128)       73856     \n",
            "_________________________________________________________________\n",
            "max_pooling2d_34 (MaxPooling (None, 8, 8, 128)         0         \n",
            "_________________________________________________________________\n",
            "dropout_32 (Dropout)         (None, 8, 8, 128)         0         \n",
            "_________________________________________________________________\n",
            "flatten_17 (Flatten)         (None, 8192)              0         \n",
            "_________________________________________________________________\n",
            "dense_33 (Dense)             (None, 512)               4194816   \n",
            "_________________________________________________________________\n",
            "dropout_33 (Dropout)         (None, 512)               0         \n",
            "_________________________________________________________________\n",
            "dense_34 (Dense)             (None, 10)                5130      \n",
            "=================================================================\n",
            "Total params: 4,293,194\n",
            "Trainable params: 4,293,194\n",
            "Non-trainable params: 0\n",
            "_________________________________________________________________\n",
            "None\n"
          ],
          "name": "stdout"
        }
      ]
    },
    {
      "cell_type": "code",
      "metadata": {
        "id": "uqJtQVpBUGAB",
        "colab_type": "code",
        "outputId": "e6792d84-3d60-4b5c-aee2-d7bf1f99a848",
        "colab": {
          "base_uri": "https://localhost:8080/",
          "height": 901
        }
      },
      "source": [
        "model.fit(x_train, y_train, validation_data=(x_test, y_test), epochs=epochs, batch_size=batch_size)\n",
        "# Final evaluation of the model\n",
        "scores = model.evaluate(x_test, y_test, verbose=0)\n",
        "print(\"Accuracy: %.2f%%\" % (scores[1]*100))"
      ],
      "execution_count": 86,
      "outputs": [
        {
          "output_type": "stream",
          "text": [
            "Train on 50000 samples, validate on 10000 samples\n",
            "Epoch 1/25\n",
            "50000/50000 [==============================] - 412s 8ms/step - loss: 1.7011 - accuracy: 0.3824 - val_loss: 1.4105 - val_accuracy: 0.4999\n",
            "Epoch 2/25\n",
            "50000/50000 [==============================] - 413s 8ms/step - loss: 1.2946 - accuracy: 0.5350 - val_loss: 1.1536 - val_accuracy: 0.5784\n",
            "Epoch 3/25\n",
            "50000/50000 [==============================] - 412s 8ms/step - loss: 1.1025 - accuracy: 0.6065 - val_loss: 0.9935 - val_accuracy: 0.6567\n",
            "Epoch 4/25\n",
            "50000/50000 [==============================] - 412s 8ms/step - loss: 0.9747 - accuracy: 0.6526 - val_loss: 0.9299 - val_accuracy: 0.6743\n",
            "Epoch 5/25\n",
            "50000/50000 [==============================] - 412s 8ms/step - loss: 0.8670 - accuracy: 0.6939 - val_loss: 0.8519 - val_accuracy: 0.7036\n",
            "Epoch 6/25\n",
            "50000/50000 [==============================] - 411s 8ms/step - loss: 0.7864 - accuracy: 0.7231 - val_loss: 0.8092 - val_accuracy: 0.7198\n",
            "Epoch 7/25\n",
            "50000/50000 [==============================] - 414s 8ms/step - loss: 0.7189 - accuracy: 0.7486 - val_loss: 0.7791 - val_accuracy: 0.7269\n",
            "Epoch 8/25\n",
            "50000/50000 [==============================] - 412s 8ms/step - loss: 0.6600 - accuracy: 0.7678 - val_loss: 0.7483 - val_accuracy: 0.7426\n",
            "Epoch 9/25\n",
            "50000/50000 [==============================] - 411s 8ms/step - loss: 0.6061 - accuracy: 0.7825 - val_loss: 0.7405 - val_accuracy: 0.7456\n",
            "Epoch 10/25\n",
            "50000/50000 [==============================] - 412s 8ms/step - loss: 0.5632 - accuracy: 0.8014 - val_loss: 0.7311 - val_accuracy: 0.7483\n",
            "Epoch 11/25\n",
            "50000/50000 [==============================] - 414s 8ms/step - loss: 0.5259 - accuracy: 0.8151 - val_loss: 0.7243 - val_accuracy: 0.7519\n",
            "Epoch 12/25\n",
            "50000/50000 [==============================] - 412s 8ms/step - loss: 0.4853 - accuracy: 0.8275 - val_loss: 0.7293 - val_accuracy: 0.7511\n",
            "Epoch 13/25\n",
            "50000/50000 [==============================] - 413s 8ms/step - loss: 0.4565 - accuracy: 0.8381 - val_loss: 0.7307 - val_accuracy: 0.7530\n",
            "Epoch 14/25\n",
            "50000/50000 [==============================] - 413s 8ms/step - loss: 0.4276 - accuracy: 0.8470 - val_loss: 0.7279 - val_accuracy: 0.7536\n",
            "Epoch 15/25\n",
            "50000/50000 [==============================] - 411s 8ms/step - loss: 0.3999 - accuracy: 0.8572 - val_loss: 0.7274 - val_accuracy: 0.7562\n",
            "Epoch 16/25\n",
            "50000/50000 [==============================] - 411s 8ms/step - loss: 0.3810 - accuracy: 0.8650 - val_loss: 0.7386 - val_accuracy: 0.7563\n",
            "Epoch 17/25\n",
            "50000/50000 [==============================] - 411s 8ms/step - loss: 0.3557 - accuracy: 0.8738 - val_loss: 0.7279 - val_accuracy: 0.7630\n",
            "Epoch 18/25\n",
            "50000/50000 [==============================] - 412s 8ms/step - loss: 0.3352 - accuracy: 0.8812 - val_loss: 0.7345 - val_accuracy: 0.7614\n",
            "Epoch 19/25\n",
            "50000/50000 [==============================] - 413s 8ms/step - loss: 0.3209 - accuracy: 0.8844 - val_loss: 0.7475 - val_accuracy: 0.7601\n",
            "Epoch 20/25\n",
            "50000/50000 [==============================] - 415s 8ms/step - loss: 0.3025 - accuracy: 0.8923 - val_loss: 0.7454 - val_accuracy: 0.7610\n",
            "Epoch 21/25\n",
            "50000/50000 [==============================] - 416s 8ms/step - loss: 0.2839 - accuracy: 0.8996 - val_loss: 0.7414 - val_accuracy: 0.7646\n",
            "Epoch 22/25\n",
            "50000/50000 [==============================] - 414s 8ms/step - loss: 0.2681 - accuracy: 0.9053 - val_loss: 0.7611 - val_accuracy: 0.7642\n",
            "Epoch 23/25\n",
            "50000/50000 [==============================] - 415s 8ms/step - loss: 0.2570 - accuracy: 0.9075 - val_loss: 0.7567 - val_accuracy: 0.7642\n",
            "Epoch 24/25\n",
            "50000/50000 [==============================] - 414s 8ms/step - loss: 0.2507 - accuracy: 0.9127 - val_loss: 0.7604 - val_accuracy: 0.7675\n",
            "Epoch 25/25\n",
            "50000/50000 [==============================] - 413s 8ms/step - loss: 0.2383 - accuracy: 0.9164 - val_loss: 0.7704 - val_accuracy: 0.7663\n",
            "Accuracy: 76.63%\n"
          ],
          "name": "stdout"
        }
      ]
    },
    {
      "cell_type": "markdown",
      "metadata": {
        "id": "rBT9ulsh72CN",
        "colab_type": "text"
      },
      "source": [
        "**Ответы на контрольные вопросы:**  \n",
        "1) ***Что такое свертка?***  \n",
        "Двумерная свертка — это довольно простая операция: начинаем с ядра, представляющего из себя матрицу весов (weight matrix). Ядро “скользит” над двумерным изображением, поэлементно выполняя операцию умножения с той частью входных данных, над которой оно сейчас находится, и затем суммирует все полученные значения в один выходной пиксель.\n",
        "\n",
        "Ядро повторяет эту процедуру с каждой локацией, над которой оно “скользит”, преобразуя двумерную матрицу в другую все еще двумерную матрицу признаков. Признаки на выходе являются взвешенными суммами (где веса являются значениями самого ядра) признаков на входе, расположенных примерно в том же месте, что и выходной пиксель на входном слое.  \n",
        "\n"
      ]
    },
    {
      "cell_type": "markdown",
      "metadata": {
        "id": "VqDlsAlm9e9J",
        "colab_type": "text"
      },
      "source": [
        "2) ***Напишите математическую операцию свертки.***  \n",
        "![convolution1.png](https://github.com/Paulik8/pis/blob/master/lab3/convolution1.png)  \n",
        "![convolution2.png](https://github.com/Paulik8/pis/blob/master/lab3/convolution2.png)"
      ]
    },
    {
      "cell_type": "markdown",
      "metadata": {
        "id": "ZAa6GF7U9i4P",
        "colab_type": "text"
      },
      "source": [
        "3) ***Какие свойства сверточного слоя?***  \n",
        "Разреженность взаимодействия нейронов  \n",
        "Разделяемые (общие) параметры  \n",
        "Эквивариантность представления  \n",
        "Работа со входом различного размера"
      ]
    },
    {
      "cell_type": "markdown",
      "metadata": {
        "id": "IUPk8CNUAsvd",
        "colab_type": "text"
      },
      "source": [
        "4) **Сколько этапов в сверточном слое? Какие?**  \n",
        "  \n",
        "\n",
        "\n",
        "1.   Свертка входа\n",
        "с множеством ядер\n",
        "2.   Пропускание откликов\n",
        "через нелинейную\n",
        "активацию (детектор)  \n",
        "3. Объединение соседних\n",
        "активаций (pooling)\n",
        "\n"
      ]
    },
    {
      "cell_type": "markdown",
      "metadata": {
        "id": "-0EL1Dnul8Lu",
        "colab_type": "text"
      },
      "source": [
        "5) **Что такое регуляризация? Зачем она нужна?**  \n",
        "Регуляризация — процесс уменьшения переобучения путем забывания определенных сигналов из тренировочных данных. Регуляризация помогает повысить точность и уменьшить вероятность переобучения. Тем самым разница между тренировочными данными и тестовыми будет уменьшена."
      ]
    },
    {
      "cell_type": "markdown",
      "metadata": {
        "id": "WtedSCJEnEFZ",
        "colab_type": "text"
      },
      "source": [
        "6) **Как вид регуляризации использовался в лабораторной?**  \n",
        "В лабораторной используется dropout(исключение). Он характеризуется исключением определённого процента случайных нейронов во время обучения нейронной сети. Это очень эффективный способ усреднения моделей внутри нейронной сети. В результате более обученные нейроны получают в сети больший вес. Такой приём значительно увеличивает скорость обучения, качество обучения на тренировочных данных, а также повышает качество предсказаний модели на новых тестовых данных."
      ]
    }
  ]
}