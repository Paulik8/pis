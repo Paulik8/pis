{
 "cells": [
  {
   "cell_type": "markdown",
   "metadata": {},
   "source": [
    "**Выполнение задачи**"
   ]
  },
  {
   "cell_type": "code",
   "execution_count": 2,
   "metadata": {},
   "outputs": [],
   "source": [
    "import numpy as np\n",
    "import tensorflow as tf\n",
    "from collections import Counter\n",
    "from sklearn.datasets import fetch_20newsgroups"
   ]
  },
  {
   "cell_type": "code",
   "execution_count": 3,
   "metadata": {},
   "outputs": [],
   "source": [
    "categories = [\"comp.windows.x\", \"rec.motorcycles\", \"sci.crypt\", \"sci.space\"]\n",
    "newsgroups_train = fetch_20newsgroups(subset='train', categories=categories)\n",
    "newsgroups_test = fetch_20newsgroups(subset='test', categories=categories)"
   ]
  },
  {
   "cell_type": "code",
   "execution_count": 4,
   "metadata": {
    "scrolled": true
   },
   "outputs": [
    {
     "data": {
      "text/plain": [
       "2379"
      ]
     },
     "execution_count": 4,
     "metadata": {},
     "output_type": "execute_result"
    }
   ],
   "source": [
    "len(newsgroups_train.target)"
   ]
  },
  {
   "cell_type": "code",
   "execution_count": 5,
   "metadata": {},
   "outputs": [
    {
     "name": "stdout",
     "output_type": "stream",
     "text": [
      "total texts in train: 2379\n",
      "total texts in test: 1583\n",
      "categories: [2 2 3 ... 3 1 0] ['comp.windows.x', 'rec.motorcycles', 'sci.crypt', 'sci.space']\n"
     ]
    }
   ],
   "source": [
    "print('total texts in train:', len(newsgroups_train.data))\n",
    "print('total texts in test:', len(newsgroups_test.data))\n",
    "print('categories:', newsgroups_train.target, newsgroups_train.target_names)"
   ]
  },
  {
   "cell_type": "code",
   "execution_count": 6,
   "metadata": {},
   "outputs": [],
   "source": [
    "vocab = Counter()\n",
    "\n",
    "for text in newsgroups_train.data:\n",
    "    for word in text.split(' '):\n",
    "        vocab[word.lower()] += 1\n",
    "\n",
    "for text in newsgroups_test.data:\n",
    "    for word in text.split(' '):\n",
    "        vocab[word.lower()] += 1\n",
    "\n",
    "total_words = len(vocab)"
   ]
  },
  {
   "cell_type": "code",
   "execution_count": 7,
   "metadata": {},
   "outputs": [],
   "source": [
    "def get_word_2_index(vocab):\n",
    "    word2index = {}\n",
    "    for i, word in enumerate(vocab):\n",
    "        word2index[word.lower()] = i\n",
    "    \n",
    "    return word2index\n",
    "\n",
    "\n",
    "word2index = get_word_2_index(vocab)\n",
    "\n",
    "\n",
    "def get_batch(df, i, batch_size):\n",
    "    batches = []\n",
    "    results = []\n",
    "    texts = df.data[i * batch_size:i * batch_size + batch_size]\n",
    "    categories = df.target[i * batch_size:i * batch_size + batch_size]\n",
    "\n",
    "    for text in texts:\n",
    "        layer = np.zeros(total_words, dtype=float)\n",
    "        for word in text.split(' '):\n",
    "            layer[word2index[word.lower()]] += 1\n",
    "        \n",
    "        batches.append(layer)\n",
    "\n",
    "    for category in categories:\n",
    "        y = np.zeros(4, dtype=float)\n",
    "        if category == 0:\n",
    "            y[0] = 1.\n",
    "        elif category == 1:\n",
    "            y[1] = 1.\n",
    "        elif category == 2:\n",
    "            y[2] = 1.\n",
    "        else:\n",
    "            y[3] = 1.\n",
    "        \n",
    "        results.append(y)\n",
    "    \n",
    "    return np.array(batches), np.array(results)"
   ]
  },
  {
   "cell_type": "code",
   "execution_count": 12,
   "metadata": {},
   "outputs": [],
   "source": [
    "# Параметры обучения\n",
    "learning_rate = 0.01\n",
    "training_epochs = 16\n",
    "batch_size = 140\n",
    "display_step = 1\n",
    "\n",
    "# Network Parameters\n",
    "n_hidden_1 = 420 # скрытый слой\n",
    "n_hidden_2 = 210 # скрытый слой\n",
    "n_hidden_3 = 90\n",
    "n_input = total_words # количество уникальных слов в наших текстах\n",
    "n_classes = 4 # 4 класса\n",
    "\n",
    "input_tensor = tf.placeholder(tf.float32, [None, n_input], name=\"input\")\n",
    "output_tensor = tf.placeholder(tf.float32, [None, n_classes], name=\"output\")"
   ]
  },
  {
   "cell_type": "code",
   "execution_count": 13,
   "metadata": {},
   "outputs": [],
   "source": [
    "def multilayer_perceptron(input_tensor, weights, biases):\n",
    "    # скрытый слой\n",
    "    layer_1_multiplication = tf.matmul(input_tensor, weights['h1'])\n",
    "    layer_1_addition = tf.add(layer_1_multiplication, biases['b1'])\n",
    "    layer_1 = tf.nn.relu(layer_1_addition)\n",
    "    \n",
    "    # скрытый слой\n",
    "    layer_2_multiplication = tf.matmul(layer_1, weights['h2'])\n",
    "    layer_2_addition = tf.add(layer_2_multiplication, biases['b2'])\n",
    "    layer_2 = tf.nn.relu(layer_2_addition)\n",
    "    \n",
    "    # скрытый слой\n",
    "    layer_3_multiplication = tf.matmul(layer_2, weights['h3'])\n",
    "    layer_3_addition = tf.add(layer_3_multiplication, biases['b3'])\n",
    "    layer_3 = tf.nn.relu(layer_3_addition)\n",
    "    \n",
    "    # выходной слой\n",
    "    out_layer_multiplication = tf.matmul(layer_3, weights['out'])\n",
    "    out_layer_addition = out_layer_multiplication + biases['out']\n",
    "    \n",
    "    return out_layer_addition"
   ]
  },
  {
   "cell_type": "code",
   "execution_count": 14,
   "metadata": {},
   "outputs": [],
   "source": [
    "# инициализация параметров сети\n",
    "weights = {\n",
    "    'h1': tf.Variable(tf.random_normal([n_input, n_hidden_1])),\n",
    "    'h2': tf.Variable(tf.random_normal([n_hidden_1, n_hidden_2])),\n",
    "    'h3': tf.Variable(tf.random_normal([n_hidden_2, n_hidden_3])),\n",
    "    'out': tf.Variable(tf.random_normal([n_hidden_3, n_classes])),\n",
    "}\n",
    "\n",
    "biases = {\n",
    "    'b1': tf.Variable(tf.random_normal([n_hidden_1])),\n",
    "    'b2': tf.Variable(tf.random_normal([n_hidden_2])),\n",
    "    'b3': tf.Variable(tf.random_normal([n_hidden_3])),\n",
    "    'out': tf.Variable(tf.random_normal([n_classes])),\n",
    "}\n",
    "\n",
    "# создание модели\n",
    "prediction = multilayer_perceptron(input_tensor, weights, biases)\n",
    "\n",
    "# Фукнция потерь\n",
    "loss = tf.reduce_mean(tf.nn.softmax_cross_entropy_with_logits(logits=prediction, labels=output_tensor))\n",
    "optimizer = tf.train.AdamOptimizer(learning_rate=learning_rate).minimize(loss)\n",
    "init = tf.global_variables_initializer()"
   ]
  },
  {
   "cell_type": "code",
   "execution_count": 15,
   "metadata": {},
   "outputs": [
    {
     "name": "stdout",
     "output_type": "stream",
     "text": [
      "Эпоха: 0001 loss= 18617.0064086914062500\n",
      "Эпоха: 0002 loss= 4563.1136188507080078\n",
      "Эпоха: 0003 loss= 3242.6922111511230469\n",
      "Эпоха: 0004 loss= 4597.3344640731811523\n",
      "Эпоха: 0005 loss= 3107.6046485900878906\n",
      "Эпоха: 0006 loss= 577.2595361173152924\n",
      "Эпоха: 0007 loss= 238.7371116876602173\n",
      "Эпоха: 0008 loss= 9.4245774447917938\n",
      "Эпоха: 0009 loss= 5.2540618411730975\n",
      "Эпоха: 0010 loss= 0.0000000011175857\n",
      "Эпоха: 0011 loss= 0.0000000000000000\n",
      "Эпоха: 0012 loss= 0.0000000000000000\n",
      "Эпоха: 0013 loss= 0.0000000000000000\n",
      "Эпоха: 0014 loss= 0.0000000000000000\n",
      "Эпоха: 0015 loss= 0.0000000000000000\n",
      "Эпоха: 0016 loss= 0.0000000000000000\n",
      "Обучение завершено!\n",
      "Точность: 0.75868607\n"
     ]
    }
   ],
   "source": [
    "# Запуск\n",
    "with tf.Session() as sess:\n",
    "    sess.run(init)\n",
    "    # Цикл обучения\n",
    "    \n",
    "    for epoch in range(training_epochs):\n",
    "        avg_cost = 0.\n",
    "        total_batch = int(len(newsgroups_train.data)/batch_size)\n",
    "        \n",
    "        # Проход по всем батчам\n",
    "        for i in range(total_batch):\n",
    "            batch_x, batch_y = get_batch(newsgroups_train,i,batch_size)\n",
    "            c, _ = sess.run([loss, optimizer], feed_dict={input_tensor: batch_x, output_tensor: batch_y})\n",
    "            # Вычисляем среднее фукнции потерь\n",
    "            avg_cost += c / total_batch\n",
    "        \n",
    "        print(\"Эпоха:\", '%04d' % (epoch+1), \"loss=\", \"{:.16f}\".format(avg_cost))\n",
    "    \n",
    "    print(\"Обучение завершено!\")\n",
    "    \n",
    "    # Тестирование\n",
    "    correct_prediction = tf.equal(tf.argmax(prediction, 1), tf.argmax(output_tensor, 1))\n",
    "\n",
    "    # Расчет точности\n",
    "    accuracy = tf.reduce_mean(tf.cast(correct_prediction, \"float\"))\n",
    "    total_test_data = len(newsgroups_test.target)\n",
    "    batch_x_test,batch_y_test = get_batch(newsgroups_test,0,total_test_data)\n",
    "\n",
    "    print(\"Точность:\", accuracy.eval({input_tensor: batch_x_test, output_tensor: batch_y_test}))"
   ]
  }
 ],
 "metadata": {
  "kernelspec": {
   "display_name": "Python 3",
   "language": "python",
   "name": "python3"
  },
  "language_info": {
   "codemirror_mode": {
    "name": "ipython",
    "version": 3
   },
   "file_extension": ".py",
   "mimetype": "text/x-python",
   "name": "python",
   "nbconvert_exporter": "python",
   "pygments_lexer": "ipython3",
   "version": "3.7.5"
  }
 },
 "nbformat": 4,
 "nbformat_minor": 4
}
